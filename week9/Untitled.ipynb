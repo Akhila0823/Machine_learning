{
 "cells": [
  {
   "cell_type": "code",
   "execution_count": null,
   "id": "8dc0e7d2-80a7-4941-949d-13467b948db9",
   "metadata": {},
   "outputs": [],
   "source": [
    "plt.scatter(df['SepalLengthCm'], df['SepalWidthCm'],color='indigo')\n",
    "plt.xlabel('SepalLengthCm')\n",
    "plt.ylabel('SepalWidthCm')\n",
    "plt.show()"
   ]
  },
  {
   "cell_type": "code",
   "execution_count": null,
   "id": "3f99e7a9-3fdc-4db7-8478-6f4aa47719b2",
   "metadata": {},
   "outputs": [],
   "source": [
    "sns.boxplot(x='Species',y='PetalLengthCm',data=df)\n",
    "plt.show()"
   ]
  },
  {
   "cell_type": "code",
   "execution_count": null,
   "id": "7139d7e6-44b5-4e95-a81a-2c666c4a9e54",
   "metadata": {},
   "outputs": [],
   "source": [
    "sns.pairplot(data=df,hue='Species')"
   ]
  }
 ],
 "metadata": {
  "kernelspec": {
   "display_name": "Python [conda env:base] *",
   "language": "python",
   "name": "conda-base-py"
  },
  "language_info": {
   "codemirror_mode": {
    "name": "ipython",
    "version": 3
   },
   "file_extension": ".py",
   "mimetype": "text/x-python",
   "name": "python",
   "nbconvert_exporter": "python",
   "pygments_lexer": "ipython3",
   "version": "3.12.7"
  }
 },
 "nbformat": 4,
 "nbformat_minor": 5
}
